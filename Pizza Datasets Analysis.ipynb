{
 "cells": [
  {
   "cell_type": "markdown",
   "id": "33f881b8",
   "metadata": {},
   "source": [
    "## PIZZA PLACE SALES\n",
    "A year's worth of sales from a fictitious pizza place, including the date and time of each order and the pizzas served, with additional details on the type, size, quantity, price and ingredients.\n",
    "\n",
    "## RECOMMENDED ANALYSIS\n",
    "\n",
    "* How many customers do we have each day? Are there any peak hours?\n",
    "* How many pizzas are typically in an order? Do we have any bestsellers?\n",
    "* How much money did we make this year? Can we identify any seasonality in the sales\n",
    "* Are there any pizzas we should take off the menu, or any promotions we could leverage?"
   ]
  },
  {
   "cell_type": "code",
   "execution_count": 30,
   "id": "66b307a7",
   "metadata": {},
   "outputs": [],
   "source": [
    "import pandas as pd\n",
    "import matplotlib.pyplot as plt\n",
    "import seaborn as sns"
   ]
  },
  {
   "cell_type": "code",
   "execution_count": 31,
   "id": "2cfa37d6",
   "metadata": {},
   "outputs": [
    {
     "data": {
      "text/html": [
       "<div>\n",
       "<style scoped>\n",
       "    .dataframe tbody tr th:only-of-type {\n",
       "        vertical-align: middle;\n",
       "    }\n",
       "\n",
       "    .dataframe tbody tr th {\n",
       "        vertical-align: top;\n",
       "    }\n",
       "\n",
       "    .dataframe thead th {\n",
       "        text-align: right;\n",
       "    }\n",
       "</style>\n",
       "<table border=\"1\" class=\"dataframe\">\n",
       "  <thead>\n",
       "    <tr style=\"text-align: right;\">\n",
       "      <th></th>\n",
       "      <th>order_id</th>\n",
       "      <th>date</th>\n",
       "      <th>time</th>\n",
       "    </tr>\n",
       "  </thead>\n",
       "  <tbody>\n",
       "    <tr>\n",
       "      <th>0</th>\n",
       "      <td>1</td>\n",
       "      <td>2015-01-01</td>\n",
       "      <td>11:38:36</td>\n",
       "    </tr>\n",
       "    <tr>\n",
       "      <th>1</th>\n",
       "      <td>2</td>\n",
       "      <td>2015-01-01</td>\n",
       "      <td>11:57:40</td>\n",
       "    </tr>\n",
       "    <tr>\n",
       "      <th>2</th>\n",
       "      <td>3</td>\n",
       "      <td>2015-01-01</td>\n",
       "      <td>12:12:28</td>\n",
       "    </tr>\n",
       "    <tr>\n",
       "      <th>3</th>\n",
       "      <td>4</td>\n",
       "      <td>2015-01-01</td>\n",
       "      <td>12:16:31</td>\n",
       "    </tr>\n",
       "    <tr>\n",
       "      <th>4</th>\n",
       "      <td>5</td>\n",
       "      <td>2015-01-01</td>\n",
       "      <td>12:21:30</td>\n",
       "    </tr>\n",
       "  </tbody>\n",
       "</table>\n",
       "</div>"
      ],
      "text/plain": [
       "   order_id        date      time\n",
       "0         1  2015-01-01  11:38:36\n",
       "1         2  2015-01-01  11:57:40\n",
       "2         3  2015-01-01  12:12:28\n",
       "3         4  2015-01-01  12:16:31\n",
       "4         5  2015-01-01  12:21:30"
      ]
     },
     "execution_count": 31,
     "metadata": {},
     "output_type": "execute_result"
    }
   ],
   "source": [
    "order = pd.read_csv(\"orders.csv\")\n",
    "order.head()"
   ]
  },
  {
   "cell_type": "code",
   "execution_count": 32,
   "id": "efabf364",
   "metadata": {
    "scrolled": true
   },
   "outputs": [
    {
     "data": {
      "text/html": [
       "<div>\n",
       "<style scoped>\n",
       "    .dataframe tbody tr th:only-of-type {\n",
       "        vertical-align: middle;\n",
       "    }\n",
       "\n",
       "    .dataframe tbody tr th {\n",
       "        vertical-align: top;\n",
       "    }\n",
       "\n",
       "    .dataframe thead th {\n",
       "        text-align: right;\n",
       "    }\n",
       "</style>\n",
       "<table border=\"1\" class=\"dataframe\">\n",
       "  <thead>\n",
       "    <tr style=\"text-align: right;\">\n",
       "      <th></th>\n",
       "      <th>order_details_id</th>\n",
       "      <th>order_id</th>\n",
       "      <th>pizza_id</th>\n",
       "      <th>quantity</th>\n",
       "    </tr>\n",
       "  </thead>\n",
       "  <tbody>\n",
       "    <tr>\n",
       "      <th>0</th>\n",
       "      <td>1</td>\n",
       "      <td>1</td>\n",
       "      <td>hawaiian_m</td>\n",
       "      <td>1</td>\n",
       "    </tr>\n",
       "    <tr>\n",
       "      <th>1</th>\n",
       "      <td>2</td>\n",
       "      <td>2</td>\n",
       "      <td>classic_dlx_m</td>\n",
       "      <td>1</td>\n",
       "    </tr>\n",
       "    <tr>\n",
       "      <th>2</th>\n",
       "      <td>3</td>\n",
       "      <td>2</td>\n",
       "      <td>five_cheese_l</td>\n",
       "      <td>1</td>\n",
       "    </tr>\n",
       "    <tr>\n",
       "      <th>3</th>\n",
       "      <td>4</td>\n",
       "      <td>2</td>\n",
       "      <td>ital_supr_l</td>\n",
       "      <td>1</td>\n",
       "    </tr>\n",
       "    <tr>\n",
       "      <th>4</th>\n",
       "      <td>5</td>\n",
       "      <td>2</td>\n",
       "      <td>mexicana_m</td>\n",
       "      <td>1</td>\n",
       "    </tr>\n",
       "  </tbody>\n",
       "</table>\n",
       "</div>"
      ],
      "text/plain": [
       "   order_details_id  order_id       pizza_id  quantity\n",
       "0                 1         1     hawaiian_m         1\n",
       "1                 2         2  classic_dlx_m         1\n",
       "2                 3         2  five_cheese_l         1\n",
       "3                 4         2    ital_supr_l         1\n",
       "4                 5         2     mexicana_m         1"
      ]
     },
     "execution_count": 32,
     "metadata": {},
     "output_type": "execute_result"
    }
   ],
   "source": [
    "order_details = pd.read_csv(\"order_details.csv\")\n",
    "order_details.head()"
   ]
  },
  {
   "cell_type": "code",
   "execution_count": 33,
   "id": "2af758eb",
   "metadata": {},
   "outputs": [
    {
     "data": {
      "text/html": [
       "<div>\n",
       "<style scoped>\n",
       "    .dataframe tbody tr th:only-of-type {\n",
       "        vertical-align: middle;\n",
       "    }\n",
       "\n",
       "    .dataframe tbody tr th {\n",
       "        vertical-align: top;\n",
       "    }\n",
       "\n",
       "    .dataframe thead th {\n",
       "        text-align: right;\n",
       "    }\n",
       "</style>\n",
       "<table border=\"1\" class=\"dataframe\">\n",
       "  <thead>\n",
       "    <tr style=\"text-align: right;\">\n",
       "      <th></th>\n",
       "      <th>pizza_id</th>\n",
       "      <th>pizza_type_id</th>\n",
       "      <th>size</th>\n",
       "      <th>price</th>\n",
       "    </tr>\n",
       "  </thead>\n",
       "  <tbody>\n",
       "    <tr>\n",
       "      <th>0</th>\n",
       "      <td>bbq_ckn_s</td>\n",
       "      <td>bbq_ckn</td>\n",
       "      <td>S</td>\n",
       "      <td>12.75</td>\n",
       "    </tr>\n",
       "    <tr>\n",
       "      <th>1</th>\n",
       "      <td>bbq_ckn_m</td>\n",
       "      <td>bbq_ckn</td>\n",
       "      <td>M</td>\n",
       "      <td>16.75</td>\n",
       "    </tr>\n",
       "    <tr>\n",
       "      <th>2</th>\n",
       "      <td>bbq_ckn_l</td>\n",
       "      <td>bbq_ckn</td>\n",
       "      <td>L</td>\n",
       "      <td>20.75</td>\n",
       "    </tr>\n",
       "    <tr>\n",
       "      <th>3</th>\n",
       "      <td>cali_ckn_s</td>\n",
       "      <td>cali_ckn</td>\n",
       "      <td>S</td>\n",
       "      <td>12.75</td>\n",
       "    </tr>\n",
       "    <tr>\n",
       "      <th>4</th>\n",
       "      <td>cali_ckn_m</td>\n",
       "      <td>cali_ckn</td>\n",
       "      <td>M</td>\n",
       "      <td>16.75</td>\n",
       "    </tr>\n",
       "  </tbody>\n",
       "</table>\n",
       "</div>"
      ],
      "text/plain": [
       "     pizza_id pizza_type_id size  price\n",
       "0   bbq_ckn_s       bbq_ckn    S  12.75\n",
       "1   bbq_ckn_m       bbq_ckn    M  16.75\n",
       "2   bbq_ckn_l       bbq_ckn    L  20.75\n",
       "3  cali_ckn_s      cali_ckn    S  12.75\n",
       "4  cali_ckn_m      cali_ckn    M  16.75"
      ]
     },
     "execution_count": 33,
     "metadata": {},
     "output_type": "execute_result"
    }
   ],
   "source": [
    "pizza = pd.read_csv(\"pizzas.csv\")\n",
    "pizza.head()"
   ]
  },
  {
   "cell_type": "code",
   "execution_count": 34,
   "id": "1a1c253b",
   "metadata": {},
   "outputs": [
    {
     "data": {
      "text/html": [
       "<div>\n",
       "<style scoped>\n",
       "    .dataframe tbody tr th:only-of-type {\n",
       "        vertical-align: middle;\n",
       "    }\n",
       "\n",
       "    .dataframe tbody tr th {\n",
       "        vertical-align: top;\n",
       "    }\n",
       "\n",
       "    .dataframe thead th {\n",
       "        text-align: right;\n",
       "    }\n",
       "</style>\n",
       "<table border=\"1\" class=\"dataframe\">\n",
       "  <thead>\n",
       "    <tr style=\"text-align: right;\">\n",
       "      <th></th>\n",
       "      <th>pizza_type_id</th>\n",
       "      <th>name</th>\n",
       "      <th>category</th>\n",
       "      <th>ingredients</th>\n",
       "    </tr>\n",
       "  </thead>\n",
       "  <tbody>\n",
       "    <tr>\n",
       "      <th>0</th>\n",
       "      <td>bbq_ckn</td>\n",
       "      <td>The Barbecue Chicken Pizza</td>\n",
       "      <td>Chicken</td>\n",
       "      <td>Barbecued Chicken, Red Peppers, Green Peppers,...</td>\n",
       "    </tr>\n",
       "    <tr>\n",
       "      <th>1</th>\n",
       "      <td>cali_ckn</td>\n",
       "      <td>The California Chicken Pizza</td>\n",
       "      <td>Chicken</td>\n",
       "      <td>Chicken, Artichoke, Spinach, Garlic, Jalapeno ...</td>\n",
       "    </tr>\n",
       "    <tr>\n",
       "      <th>2</th>\n",
       "      <td>ckn_alfredo</td>\n",
       "      <td>The Chicken Alfredo Pizza</td>\n",
       "      <td>Chicken</td>\n",
       "      <td>Chicken, Red Onions, Red Peppers, Mushrooms, A...</td>\n",
       "    </tr>\n",
       "    <tr>\n",
       "      <th>3</th>\n",
       "      <td>ckn_pesto</td>\n",
       "      <td>The Chicken Pesto Pizza</td>\n",
       "      <td>Chicken</td>\n",
       "      <td>Chicken, Tomatoes, Red Peppers, Spinach, Garli...</td>\n",
       "    </tr>\n",
       "    <tr>\n",
       "      <th>4</th>\n",
       "      <td>southw_ckn</td>\n",
       "      <td>The Southwest Chicken Pizza</td>\n",
       "      <td>Chicken</td>\n",
       "      <td>Chicken, Tomatoes, Red Peppers, Red Onions, Ja...</td>\n",
       "    </tr>\n",
       "  </tbody>\n",
       "</table>\n",
       "</div>"
      ],
      "text/plain": [
       "  pizza_type_id                          name category  \\\n",
       "0       bbq_ckn    The Barbecue Chicken Pizza  Chicken   \n",
       "1      cali_ckn  The California Chicken Pizza  Chicken   \n",
       "2   ckn_alfredo     The Chicken Alfredo Pizza  Chicken   \n",
       "3     ckn_pesto       The Chicken Pesto Pizza  Chicken   \n",
       "4    southw_ckn   The Southwest Chicken Pizza  Chicken   \n",
       "\n",
       "                                         ingredients  \n",
       "0  Barbecued Chicken, Red Peppers, Green Peppers,...  \n",
       "1  Chicken, Artichoke, Spinach, Garlic, Jalapeno ...  \n",
       "2  Chicken, Red Onions, Red Peppers, Mushrooms, A...  \n",
       "3  Chicken, Tomatoes, Red Peppers, Spinach, Garli...  \n",
       "4  Chicken, Tomatoes, Red Peppers, Red Onions, Ja...  "
      ]
     },
     "execution_count": 34,
     "metadata": {},
     "output_type": "execute_result"
    }
   ],
   "source": [
    "pizza_types = pd.read_csv(\"pizza_types.csv\", encoding=\"latin\")\n",
    "pizza_types.head()"
   ]
  },
  {
   "cell_type": "markdown",
   "id": "ea2df9e4",
   "metadata": {},
   "source": [
    "## FEATURE ENGINEERING"
   ]
  },
  {
   "cell_type": "code",
   "execution_count": 35,
   "id": "9ff89df5",
   "metadata": {},
   "outputs": [
    {
     "name": "stdout",
     "output_type": "stream",
     "text": [
      "Index(['order_id', 'date', 'time'], dtype='object')\n",
      "Index(['order_details_id', 'order_id', 'pizza_id', 'quantity'], dtype='object')\n",
      "Index(['pizza_id', 'pizza_type_id', 'size', 'price'], dtype='object')\n",
      "Index(['pizza_type_id', 'name', 'category', 'ingredients'], dtype='object')\n"
     ]
    }
   ],
   "source": [
    "print(order.columns)\n",
    "print(order_details.columns)\n",
    "print(pizza.columns)\n",
    "print(pizza_types.columns)"
   ]
  },
  {
   "cell_type": "code",
   "execution_count": 36,
   "id": "2bec21cd",
   "metadata": {},
   "outputs": [
    {
     "data": {
      "text/html": [
       "<div>\n",
       "<style scoped>\n",
       "    .dataframe tbody tr th:only-of-type {\n",
       "        vertical-align: middle;\n",
       "    }\n",
       "\n",
       "    .dataframe tbody tr th {\n",
       "        vertical-align: top;\n",
       "    }\n",
       "\n",
       "    .dataframe thead th {\n",
       "        text-align: right;\n",
       "    }\n",
       "</style>\n",
       "<table border=\"1\" class=\"dataframe\">\n",
       "  <thead>\n",
       "    <tr style=\"text-align: right;\">\n",
       "      <th></th>\n",
       "      <th>order_id</th>\n",
       "      <th>date</th>\n",
       "      <th>time</th>\n",
       "      <th>order_details_id</th>\n",
       "      <th>pizza_id</th>\n",
       "      <th>quantity</th>\n",
       "      <th>pizza_type_id</th>\n",
       "      <th>size</th>\n",
       "      <th>price</th>\n",
       "      <th>name</th>\n",
       "      <th>category</th>\n",
       "      <th>ingredients</th>\n",
       "    </tr>\n",
       "  </thead>\n",
       "  <tbody>\n",
       "    <tr>\n",
       "      <th>0</th>\n",
       "      <td>1</td>\n",
       "      <td>2015-01-01</td>\n",
       "      <td>11:38:36</td>\n",
       "      <td>1</td>\n",
       "      <td>hawaiian_m</td>\n",
       "      <td>1</td>\n",
       "      <td>hawaiian</td>\n",
       "      <td>M</td>\n",
       "      <td>13.25</td>\n",
       "      <td>The Hawaiian Pizza</td>\n",
       "      <td>Classic</td>\n",
       "      <td>Sliced Ham, Pineapple, Mozzarella Cheese</td>\n",
       "    </tr>\n",
       "    <tr>\n",
       "      <th>1</th>\n",
       "      <td>77</td>\n",
       "      <td>2015-01-02</td>\n",
       "      <td>12:22:46</td>\n",
       "      <td>179</td>\n",
       "      <td>hawaiian_m</td>\n",
       "      <td>1</td>\n",
       "      <td>hawaiian</td>\n",
       "      <td>M</td>\n",
       "      <td>13.25</td>\n",
       "      <td>The Hawaiian Pizza</td>\n",
       "      <td>Classic</td>\n",
       "      <td>Sliced Ham, Pineapple, Mozzarella Cheese</td>\n",
       "    </tr>\n",
       "    <tr>\n",
       "      <th>2</th>\n",
       "      <td>146</td>\n",
       "      <td>2015-01-03</td>\n",
       "      <td>14:22:10</td>\n",
       "      <td>357</td>\n",
       "      <td>hawaiian_m</td>\n",
       "      <td>1</td>\n",
       "      <td>hawaiian</td>\n",
       "      <td>M</td>\n",
       "      <td>13.25</td>\n",
       "      <td>The Hawaiian Pizza</td>\n",
       "      <td>Classic</td>\n",
       "      <td>Sliced Ham, Pineapple, Mozzarella Cheese</td>\n",
       "    </tr>\n",
       "    <tr>\n",
       "      <th>3</th>\n",
       "      <td>163</td>\n",
       "      <td>2015-01-03</td>\n",
       "      <td>16:54:54</td>\n",
       "      <td>389</td>\n",
       "      <td>hawaiian_m</td>\n",
       "      <td>1</td>\n",
       "      <td>hawaiian</td>\n",
       "      <td>M</td>\n",
       "      <td>13.25</td>\n",
       "      <td>The Hawaiian Pizza</td>\n",
       "      <td>Classic</td>\n",
       "      <td>Sliced Ham, Pineapple, Mozzarella Cheese</td>\n",
       "    </tr>\n",
       "    <tr>\n",
       "      <th>4</th>\n",
       "      <td>247</td>\n",
       "      <td>2015-01-04</td>\n",
       "      <td>20:55:29</td>\n",
       "      <td>568</td>\n",
       "      <td>hawaiian_m</td>\n",
       "      <td>1</td>\n",
       "      <td>hawaiian</td>\n",
       "      <td>M</td>\n",
       "      <td>13.25</td>\n",
       "      <td>The Hawaiian Pizza</td>\n",
       "      <td>Classic</td>\n",
       "      <td>Sliced Ham, Pineapple, Mozzarella Cheese</td>\n",
       "    </tr>\n",
       "  </tbody>\n",
       "</table>\n",
       "</div>"
      ],
      "text/plain": [
       "   order_id        date      time  order_details_id    pizza_id  quantity  \\\n",
       "0         1  2015-01-01  11:38:36                 1  hawaiian_m         1   \n",
       "1        77  2015-01-02  12:22:46               179  hawaiian_m         1   \n",
       "2       146  2015-01-03  14:22:10               357  hawaiian_m         1   \n",
       "3       163  2015-01-03  16:54:54               389  hawaiian_m         1   \n",
       "4       247  2015-01-04  20:55:29               568  hawaiian_m         1   \n",
       "\n",
       "  pizza_type_id size  price                name category  \\\n",
       "0      hawaiian    M  13.25  The Hawaiian Pizza  Classic   \n",
       "1      hawaiian    M  13.25  The Hawaiian Pizza  Classic   \n",
       "2      hawaiian    M  13.25  The Hawaiian Pizza  Classic   \n",
       "3      hawaiian    M  13.25  The Hawaiian Pizza  Classic   \n",
       "4      hawaiian    M  13.25  The Hawaiian Pizza  Classic   \n",
       "\n",
       "                                ingredients  \n",
       "0  Sliced Ham, Pineapple, Mozzarella Cheese  \n",
       "1  Sliced Ham, Pineapple, Mozzarella Cheese  \n",
       "2  Sliced Ham, Pineapple, Mozzarella Cheese  \n",
       "3  Sliced Ham, Pineapple, Mozzarella Cheese  \n",
       "4  Sliced Ham, Pineapple, Mozzarella Cheese  "
      ]
     },
     "execution_count": 36,
     "metadata": {},
     "output_type": "execute_result"
    }
   ],
   "source": [
    "pizza_df = order.merge(order_details, on=\"order_id\").merge(pizza, on=\"pizza_id\").merge(pizza_types, on=\"pizza_type_id\")\n",
    "pizza_df.head()"
   ]
  },
  {
   "cell_type": "code",
   "execution_count": 37,
   "id": "d5140132",
   "metadata": {},
   "outputs": [
    {
     "name": "stdout",
     "output_type": "stream",
     "text": [
      "<class 'pandas.core.frame.DataFrame'>\n",
      "RangeIndex: 48620 entries, 0 to 48619\n",
      "Data columns (total 12 columns):\n",
      " #   Column            Non-Null Count  Dtype  \n",
      "---  ------            --------------  -----  \n",
      " 0   order_id          48620 non-null  int64  \n",
      " 1   date              48620 non-null  object \n",
      " 2   time              48620 non-null  object \n",
      " 3   order_details_id  48620 non-null  int64  \n",
      " 4   pizza_id          48620 non-null  object \n",
      " 5   quantity          48620 non-null  int64  \n",
      " 6   pizza_type_id     48620 non-null  object \n",
      " 7   size              48620 non-null  object \n",
      " 8   price             48620 non-null  float64\n",
      " 9   name              48620 non-null  object \n",
      " 10  category          48620 non-null  object \n",
      " 11  ingredients       48620 non-null  object \n",
      "dtypes: float64(1), int64(3), object(8)\n",
      "memory usage: 4.5+ MB\n"
     ]
    }
   ],
   "source": [
    "pizza_df.info()"
   ]
  },
  {
   "cell_type": "code",
   "execution_count": 38,
   "id": "8b53e52e",
   "metadata": {},
   "outputs": [
    {
     "data": {
      "text/plain": [
       "order_id            0\n",
       "date                0\n",
       "time                0\n",
       "order_details_id    0\n",
       "pizza_id            0\n",
       "quantity            0\n",
       "pizza_type_id       0\n",
       "size                0\n",
       "price               0\n",
       "name                0\n",
       "category            0\n",
       "ingredients         0\n",
       "dtype: int64"
      ]
     },
     "execution_count": 38,
     "metadata": {},
     "output_type": "execute_result"
    }
   ],
   "source": [
    "pizza_df.isna().sum() #Checking the presence of missing data"
   ]
  },
  {
   "cell_type": "code",
   "execution_count": 39,
   "id": "97c755ab",
   "metadata": {},
   "outputs": [],
   "source": [
    "#Firstly you have to change the datatype of date to datetime such that you can extract the month and day respectively.\n",
    "\n",
    "pizza_df[\"date\"]=pd.to_datetime(pizza_df[\"date\"])"
   ]
  },
  {
   "cell_type": "code",
   "execution_count": 40,
   "id": "2b3bebcf",
   "metadata": {},
   "outputs": [
    {
     "data": {
      "text/plain": [
       "0        2015\n",
       "1        2015\n",
       "2        2015\n",
       "3        2015\n",
       "4        2015\n",
       "         ... \n",
       "48615    2015\n",
       "48616    2015\n",
       "48617    2015\n",
       "48618    2015\n",
       "48619    2015\n",
       "Name: date, Length: 48620, dtype: int32"
      ]
     },
     "execution_count": 40,
     "metadata": {},
     "output_type": "execute_result"
    }
   ],
   "source": [
    "#Syntax for selecting components from a datetime\n",
    "pizza_df[\"date\"].dt.year"
   ]
  },
  {
   "cell_type": "code",
   "execution_count": 41,
   "id": "14106ef0",
   "metadata": {},
   "outputs": [],
   "source": [
    "#Adding the day and month columns to the dataframe\n",
    "pizza_df[\"day\"] = pizza_df[\"date\"].dt.dayofweek + 1\n",
    "pizza_df[\"month\"] = pizza_df[\"date\"].dt.month"
   ]
  },
  {
   "cell_type": "code",
   "execution_count": 42,
   "id": "d58710c1",
   "metadata": {},
   "outputs": [
    {
     "data": {
      "text/html": [
       "<div>\n",
       "<style scoped>\n",
       "    .dataframe tbody tr th:only-of-type {\n",
       "        vertical-align: middle;\n",
       "    }\n",
       "\n",
       "    .dataframe tbody tr th {\n",
       "        vertical-align: top;\n",
       "    }\n",
       "\n",
       "    .dataframe thead th {\n",
       "        text-align: right;\n",
       "    }\n",
       "</style>\n",
       "<table border=\"1\" class=\"dataframe\">\n",
       "  <thead>\n",
       "    <tr style=\"text-align: right;\">\n",
       "      <th></th>\n",
       "      <th>order_id</th>\n",
       "      <th>date</th>\n",
       "      <th>time</th>\n",
       "      <th>order_details_id</th>\n",
       "      <th>pizza_id</th>\n",
       "      <th>quantity</th>\n",
       "      <th>pizza_type_id</th>\n",
       "      <th>size</th>\n",
       "      <th>price</th>\n",
       "      <th>name</th>\n",
       "      <th>category</th>\n",
       "      <th>ingredients</th>\n",
       "      <th>day</th>\n",
       "      <th>month</th>\n",
       "    </tr>\n",
       "  </thead>\n",
       "  <tbody>\n",
       "    <tr>\n",
       "      <th>0</th>\n",
       "      <td>1</td>\n",
       "      <td>2015-01-01</td>\n",
       "      <td>11:38:36</td>\n",
       "      <td>1</td>\n",
       "      <td>hawaiian_m</td>\n",
       "      <td>1</td>\n",
       "      <td>hawaiian</td>\n",
       "      <td>M</td>\n",
       "      <td>13.25</td>\n",
       "      <td>The Hawaiian Pizza</td>\n",
       "      <td>Classic</td>\n",
       "      <td>Sliced Ham, Pineapple, Mozzarella Cheese</td>\n",
       "      <td>4</td>\n",
       "      <td>1</td>\n",
       "    </tr>\n",
       "    <tr>\n",
       "      <th>1</th>\n",
       "      <td>77</td>\n",
       "      <td>2015-01-02</td>\n",
       "      <td>12:22:46</td>\n",
       "      <td>179</td>\n",
       "      <td>hawaiian_m</td>\n",
       "      <td>1</td>\n",
       "      <td>hawaiian</td>\n",
       "      <td>M</td>\n",
       "      <td>13.25</td>\n",
       "      <td>The Hawaiian Pizza</td>\n",
       "      <td>Classic</td>\n",
       "      <td>Sliced Ham, Pineapple, Mozzarella Cheese</td>\n",
       "      <td>5</td>\n",
       "      <td>1</td>\n",
       "    </tr>\n",
       "    <tr>\n",
       "      <th>2</th>\n",
       "      <td>146</td>\n",
       "      <td>2015-01-03</td>\n",
       "      <td>14:22:10</td>\n",
       "      <td>357</td>\n",
       "      <td>hawaiian_m</td>\n",
       "      <td>1</td>\n",
       "      <td>hawaiian</td>\n",
       "      <td>M</td>\n",
       "      <td>13.25</td>\n",
       "      <td>The Hawaiian Pizza</td>\n",
       "      <td>Classic</td>\n",
       "      <td>Sliced Ham, Pineapple, Mozzarella Cheese</td>\n",
       "      <td>6</td>\n",
       "      <td>1</td>\n",
       "    </tr>\n",
       "    <tr>\n",
       "      <th>3</th>\n",
       "      <td>163</td>\n",
       "      <td>2015-01-03</td>\n",
       "      <td>16:54:54</td>\n",
       "      <td>389</td>\n",
       "      <td>hawaiian_m</td>\n",
       "      <td>1</td>\n",
       "      <td>hawaiian</td>\n",
       "      <td>M</td>\n",
       "      <td>13.25</td>\n",
       "      <td>The Hawaiian Pizza</td>\n",
       "      <td>Classic</td>\n",
       "      <td>Sliced Ham, Pineapple, Mozzarella Cheese</td>\n",
       "      <td>6</td>\n",
       "      <td>1</td>\n",
       "    </tr>\n",
       "    <tr>\n",
       "      <th>4</th>\n",
       "      <td>247</td>\n",
       "      <td>2015-01-04</td>\n",
       "      <td>20:55:29</td>\n",
       "      <td>568</td>\n",
       "      <td>hawaiian_m</td>\n",
       "      <td>1</td>\n",
       "      <td>hawaiian</td>\n",
       "      <td>M</td>\n",
       "      <td>13.25</td>\n",
       "      <td>The Hawaiian Pizza</td>\n",
       "      <td>Classic</td>\n",
       "      <td>Sliced Ham, Pineapple, Mozzarella Cheese</td>\n",
       "      <td>7</td>\n",
       "      <td>1</td>\n",
       "    </tr>\n",
       "  </tbody>\n",
       "</table>\n",
       "</div>"
      ],
      "text/plain": [
       "   order_id       date      time  order_details_id    pizza_id  quantity  \\\n",
       "0         1 2015-01-01  11:38:36                 1  hawaiian_m         1   \n",
       "1        77 2015-01-02  12:22:46               179  hawaiian_m         1   \n",
       "2       146 2015-01-03  14:22:10               357  hawaiian_m         1   \n",
       "3       163 2015-01-03  16:54:54               389  hawaiian_m         1   \n",
       "4       247 2015-01-04  20:55:29               568  hawaiian_m         1   \n",
       "\n",
       "  pizza_type_id size  price                name category  \\\n",
       "0      hawaiian    M  13.25  The Hawaiian Pizza  Classic   \n",
       "1      hawaiian    M  13.25  The Hawaiian Pizza  Classic   \n",
       "2      hawaiian    M  13.25  The Hawaiian Pizza  Classic   \n",
       "3      hawaiian    M  13.25  The Hawaiian Pizza  Classic   \n",
       "4      hawaiian    M  13.25  The Hawaiian Pizza  Classic   \n",
       "\n",
       "                                ingredients  day  month  \n",
       "0  Sliced Ham, Pineapple, Mozzarella Cheese    4      1  \n",
       "1  Sliced Ham, Pineapple, Mozzarella Cheese    5      1  \n",
       "2  Sliced Ham, Pineapple, Mozzarella Cheese    6      1  \n",
       "3  Sliced Ham, Pineapple, Mozzarella Cheese    6      1  \n",
       "4  Sliced Ham, Pineapple, Mozzarella Cheese    7      1  "
      ]
     },
     "execution_count": 42,
     "metadata": {},
     "output_type": "execute_result"
    }
   ],
   "source": [
    "pizza_df.head()"
   ]
  },
  {
   "cell_type": "code",
   "execution_count": 43,
   "id": "0bd1f088",
   "metadata": {},
   "outputs": [
    {
     "data": {
      "text/plain": [
       "array([ 1,  2,  3,  4,  5,  6,  7,  8,  9, 10, 11, 12])"
      ]
     },
     "execution_count": 43,
     "metadata": {},
     "output_type": "execute_result"
    }
   ],
   "source": [
    "#Knowing the number of different items present in a column ascribed to a particular dataframe.\n",
    "pizza_df.day.unique()\n",
    "pizza_df.month.unique()"
   ]
  },
  {
   "cell_type": "code",
   "execution_count": 44,
   "id": "bc5afb1f",
   "metadata": {},
   "outputs": [
    {
     "name": "stderr",
     "output_type": "stream",
     "text": [
      "C:\\Users\\User\\AppData\\Local\\Temp\\ipykernel_13304\\228807170.py:2: UserWarning: Could not infer format, so each element will be parsed individually, falling back to `dateutil`. To ensure parsing is consistent and as-expected, please specify a format.\n",
      "  pizza_df[\"hour\"]=pd.to_datetime(pizza_df.time).dt.hour\n"
     ]
    }
   ],
   "source": [
    "#Extracting hours from a particular in the dataframe\n",
    "pizza_df[\"hour\"]=pd.to_datetime(pizza_df.time).dt.hour"
   ]
  },
  {
   "cell_type": "code",
   "execution_count": 45,
   "id": "3336aeb9",
   "metadata": {},
   "outputs": [],
   "source": [
    "day = {1:\"Monday\", 2:\"Tuesday\", 3:\"Wednesday\", 4:\"Thursday\", 5:\"Friday\", 6:\"Saturday\", 7:\"Sunday\"}\n",
    "month = {1:\"January\", 2:\"February\", 3:\"March\", 4:\"April\", 5:\"May\", 6:\"June\", 7:\"July\",8:\"August\",9:\"September\",10:\"October\", 11:\"November\", 12:\"December\"}\n"
   ]
  },
  {
   "cell_type": "code",
   "execution_count": 46,
   "id": "2da8ecba",
   "metadata": {},
   "outputs": [],
   "source": [
    "#Syntax for mapping a dictionary to a particular column\n",
    "pizza_df[\"day\"] = pizza_df.day.map(day)"
   ]
  },
  {
   "cell_type": "code",
   "execution_count": 47,
   "id": "e1a60a89",
   "metadata": {},
   "outputs": [],
   "source": [
    "pizza_df[\"month\"] = pizza_df.month.map(month)"
   ]
  },
  {
   "cell_type": "code",
   "execution_count": 48,
   "id": "15584e93",
   "metadata": {},
   "outputs": [
    {
     "data": {
      "text/html": [
       "<div>\n",
       "<style scoped>\n",
       "    .dataframe tbody tr th:only-of-type {\n",
       "        vertical-align: middle;\n",
       "    }\n",
       "\n",
       "    .dataframe tbody tr th {\n",
       "        vertical-align: top;\n",
       "    }\n",
       "\n",
       "    .dataframe thead th {\n",
       "        text-align: right;\n",
       "    }\n",
       "</style>\n",
       "<table border=\"1\" class=\"dataframe\">\n",
       "  <thead>\n",
       "    <tr style=\"text-align: right;\">\n",
       "      <th></th>\n",
       "      <th>order_id</th>\n",
       "      <th>date</th>\n",
       "      <th>time</th>\n",
       "      <th>order_details_id</th>\n",
       "      <th>pizza_id</th>\n",
       "      <th>quantity</th>\n",
       "      <th>pizza_type_id</th>\n",
       "      <th>size</th>\n",
       "      <th>price</th>\n",
       "      <th>name</th>\n",
       "      <th>category</th>\n",
       "      <th>ingredients</th>\n",
       "      <th>day</th>\n",
       "      <th>month</th>\n",
       "      <th>hour</th>\n",
       "    </tr>\n",
       "  </thead>\n",
       "  <tbody>\n",
       "    <tr>\n",
       "      <th>0</th>\n",
       "      <td>1</td>\n",
       "      <td>2015-01-01</td>\n",
       "      <td>11:38:36</td>\n",
       "      <td>1</td>\n",
       "      <td>hawaiian_m</td>\n",
       "      <td>1</td>\n",
       "      <td>hawaiian</td>\n",
       "      <td>M</td>\n",
       "      <td>13.25</td>\n",
       "      <td>The Hawaiian Pizza</td>\n",
       "      <td>Classic</td>\n",
       "      <td>Sliced Ham, Pineapple, Mozzarella Cheese</td>\n",
       "      <td>Thursday</td>\n",
       "      <td>January</td>\n",
       "      <td>11</td>\n",
       "    </tr>\n",
       "    <tr>\n",
       "      <th>1</th>\n",
       "      <td>77</td>\n",
       "      <td>2015-01-02</td>\n",
       "      <td>12:22:46</td>\n",
       "      <td>179</td>\n",
       "      <td>hawaiian_m</td>\n",
       "      <td>1</td>\n",
       "      <td>hawaiian</td>\n",
       "      <td>M</td>\n",
       "      <td>13.25</td>\n",
       "      <td>The Hawaiian Pizza</td>\n",
       "      <td>Classic</td>\n",
       "      <td>Sliced Ham, Pineapple, Mozzarella Cheese</td>\n",
       "      <td>Friday</td>\n",
       "      <td>January</td>\n",
       "      <td>12</td>\n",
       "    </tr>\n",
       "    <tr>\n",
       "      <th>2</th>\n",
       "      <td>146</td>\n",
       "      <td>2015-01-03</td>\n",
       "      <td>14:22:10</td>\n",
       "      <td>357</td>\n",
       "      <td>hawaiian_m</td>\n",
       "      <td>1</td>\n",
       "      <td>hawaiian</td>\n",
       "      <td>M</td>\n",
       "      <td>13.25</td>\n",
       "      <td>The Hawaiian Pizza</td>\n",
       "      <td>Classic</td>\n",
       "      <td>Sliced Ham, Pineapple, Mozzarella Cheese</td>\n",
       "      <td>Saturday</td>\n",
       "      <td>January</td>\n",
       "      <td>14</td>\n",
       "    </tr>\n",
       "    <tr>\n",
       "      <th>3</th>\n",
       "      <td>163</td>\n",
       "      <td>2015-01-03</td>\n",
       "      <td>16:54:54</td>\n",
       "      <td>389</td>\n",
       "      <td>hawaiian_m</td>\n",
       "      <td>1</td>\n",
       "      <td>hawaiian</td>\n",
       "      <td>M</td>\n",
       "      <td>13.25</td>\n",
       "      <td>The Hawaiian Pizza</td>\n",
       "      <td>Classic</td>\n",
       "      <td>Sliced Ham, Pineapple, Mozzarella Cheese</td>\n",
       "      <td>Saturday</td>\n",
       "      <td>January</td>\n",
       "      <td>16</td>\n",
       "    </tr>\n",
       "    <tr>\n",
       "      <th>4</th>\n",
       "      <td>247</td>\n",
       "      <td>2015-01-04</td>\n",
       "      <td>20:55:29</td>\n",
       "      <td>568</td>\n",
       "      <td>hawaiian_m</td>\n",
       "      <td>1</td>\n",
       "      <td>hawaiian</td>\n",
       "      <td>M</td>\n",
       "      <td>13.25</td>\n",
       "      <td>The Hawaiian Pizza</td>\n",
       "      <td>Classic</td>\n",
       "      <td>Sliced Ham, Pineapple, Mozzarella Cheese</td>\n",
       "      <td>Sunday</td>\n",
       "      <td>January</td>\n",
       "      <td>20</td>\n",
       "    </tr>\n",
       "  </tbody>\n",
       "</table>\n",
       "</div>"
      ],
      "text/plain": [
       "   order_id       date      time  order_details_id    pizza_id  quantity  \\\n",
       "0         1 2015-01-01  11:38:36                 1  hawaiian_m         1   \n",
       "1        77 2015-01-02  12:22:46               179  hawaiian_m         1   \n",
       "2       146 2015-01-03  14:22:10               357  hawaiian_m         1   \n",
       "3       163 2015-01-03  16:54:54               389  hawaiian_m         1   \n",
       "4       247 2015-01-04  20:55:29               568  hawaiian_m         1   \n",
       "\n",
       "  pizza_type_id size  price                name category  \\\n",
       "0      hawaiian    M  13.25  The Hawaiian Pizza  Classic   \n",
       "1      hawaiian    M  13.25  The Hawaiian Pizza  Classic   \n",
       "2      hawaiian    M  13.25  The Hawaiian Pizza  Classic   \n",
       "3      hawaiian    M  13.25  The Hawaiian Pizza  Classic   \n",
       "4      hawaiian    M  13.25  The Hawaiian Pizza  Classic   \n",
       "\n",
       "                                ingredients       day    month  hour  \n",
       "0  Sliced Ham, Pineapple, Mozzarella Cheese  Thursday  January    11  \n",
       "1  Sliced Ham, Pineapple, Mozzarella Cheese    Friday  January    12  \n",
       "2  Sliced Ham, Pineapple, Mozzarella Cheese  Saturday  January    14  \n",
       "3  Sliced Ham, Pineapple, Mozzarella Cheese  Saturday  January    16  \n",
       "4  Sliced Ham, Pineapple, Mozzarella Cheese    Sunday  January    20  "
      ]
     },
     "execution_count": 48,
     "metadata": {},
     "output_type": "execute_result"
    }
   ],
   "source": [
    "pizza_df.head()"
   ]
  },
  {
   "cell_type": "code",
   "execution_count": 49,
   "id": "85237852",
   "metadata": {},
   "outputs": [],
   "source": [
    "#Calculating the overall price of every pizza and its quantity.\n",
    "pizza_df[\"Sales\"] = pizza_df[\"quantity\"]*pizza_df[\"price\"] "
   ]
  },
  {
   "cell_type": "code",
   "execution_count": 50,
   "id": "f0169b31",
   "metadata": {},
   "outputs": [
    {
     "data": {
      "text/html": [
       "<div>\n",
       "<style scoped>\n",
       "    .dataframe tbody tr th:only-of-type {\n",
       "        vertical-align: middle;\n",
       "    }\n",
       "\n",
       "    .dataframe tbody tr th {\n",
       "        vertical-align: top;\n",
       "    }\n",
       "\n",
       "    .dataframe thead th {\n",
       "        text-align: right;\n",
       "    }\n",
       "</style>\n",
       "<table border=\"1\" class=\"dataframe\">\n",
       "  <thead>\n",
       "    <tr style=\"text-align: right;\">\n",
       "      <th></th>\n",
       "      <th>order_id</th>\n",
       "      <th>date</th>\n",
       "      <th>time</th>\n",
       "      <th>order_details_id</th>\n",
       "      <th>pizza_id</th>\n",
       "      <th>quantity</th>\n",
       "      <th>pizza_type_id</th>\n",
       "      <th>size</th>\n",
       "      <th>price</th>\n",
       "      <th>name</th>\n",
       "      <th>category</th>\n",
       "      <th>ingredients</th>\n",
       "      <th>day</th>\n",
       "      <th>month</th>\n",
       "      <th>hour</th>\n",
       "      <th>Sales</th>\n",
       "    </tr>\n",
       "  </thead>\n",
       "  <tbody>\n",
       "    <tr>\n",
       "      <th>0</th>\n",
       "      <td>1</td>\n",
       "      <td>2015-01-01</td>\n",
       "      <td>11:38:36</td>\n",
       "      <td>1</td>\n",
       "      <td>hawaiian_m</td>\n",
       "      <td>1</td>\n",
       "      <td>hawaiian</td>\n",
       "      <td>M</td>\n",
       "      <td>13.25</td>\n",
       "      <td>The Hawaiian Pizza</td>\n",
       "      <td>Classic</td>\n",
       "      <td>Sliced Ham, Pineapple, Mozzarella Cheese</td>\n",
       "      <td>Thursday</td>\n",
       "      <td>January</td>\n",
       "      <td>11</td>\n",
       "      <td>13.25</td>\n",
       "    </tr>\n",
       "    <tr>\n",
       "      <th>1</th>\n",
       "      <td>77</td>\n",
       "      <td>2015-01-02</td>\n",
       "      <td>12:22:46</td>\n",
       "      <td>179</td>\n",
       "      <td>hawaiian_m</td>\n",
       "      <td>1</td>\n",
       "      <td>hawaiian</td>\n",
       "      <td>M</td>\n",
       "      <td>13.25</td>\n",
       "      <td>The Hawaiian Pizza</td>\n",
       "      <td>Classic</td>\n",
       "      <td>Sliced Ham, Pineapple, Mozzarella Cheese</td>\n",
       "      <td>Friday</td>\n",
       "      <td>January</td>\n",
       "      <td>12</td>\n",
       "      <td>13.25</td>\n",
       "    </tr>\n",
       "    <tr>\n",
       "      <th>2</th>\n",
       "      <td>146</td>\n",
       "      <td>2015-01-03</td>\n",
       "      <td>14:22:10</td>\n",
       "      <td>357</td>\n",
       "      <td>hawaiian_m</td>\n",
       "      <td>1</td>\n",
       "      <td>hawaiian</td>\n",
       "      <td>M</td>\n",
       "      <td>13.25</td>\n",
       "      <td>The Hawaiian Pizza</td>\n",
       "      <td>Classic</td>\n",
       "      <td>Sliced Ham, Pineapple, Mozzarella Cheese</td>\n",
       "      <td>Saturday</td>\n",
       "      <td>January</td>\n",
       "      <td>14</td>\n",
       "      <td>13.25</td>\n",
       "    </tr>\n",
       "    <tr>\n",
       "      <th>3</th>\n",
       "      <td>163</td>\n",
       "      <td>2015-01-03</td>\n",
       "      <td>16:54:54</td>\n",
       "      <td>389</td>\n",
       "      <td>hawaiian_m</td>\n",
       "      <td>1</td>\n",
       "      <td>hawaiian</td>\n",
       "      <td>M</td>\n",
       "      <td>13.25</td>\n",
       "      <td>The Hawaiian Pizza</td>\n",
       "      <td>Classic</td>\n",
       "      <td>Sliced Ham, Pineapple, Mozzarella Cheese</td>\n",
       "      <td>Saturday</td>\n",
       "      <td>January</td>\n",
       "      <td>16</td>\n",
       "      <td>13.25</td>\n",
       "    </tr>\n",
       "    <tr>\n",
       "      <th>4</th>\n",
       "      <td>247</td>\n",
       "      <td>2015-01-04</td>\n",
       "      <td>20:55:29</td>\n",
       "      <td>568</td>\n",
       "      <td>hawaiian_m</td>\n",
       "      <td>1</td>\n",
       "      <td>hawaiian</td>\n",
       "      <td>M</td>\n",
       "      <td>13.25</td>\n",
       "      <td>The Hawaiian Pizza</td>\n",
       "      <td>Classic</td>\n",
       "      <td>Sliced Ham, Pineapple, Mozzarella Cheese</td>\n",
       "      <td>Sunday</td>\n",
       "      <td>January</td>\n",
       "      <td>20</td>\n",
       "      <td>13.25</td>\n",
       "    </tr>\n",
       "  </tbody>\n",
       "</table>\n",
       "</div>"
      ],
      "text/plain": [
       "   order_id       date      time  order_details_id    pizza_id  quantity  \\\n",
       "0         1 2015-01-01  11:38:36                 1  hawaiian_m         1   \n",
       "1        77 2015-01-02  12:22:46               179  hawaiian_m         1   \n",
       "2       146 2015-01-03  14:22:10               357  hawaiian_m         1   \n",
       "3       163 2015-01-03  16:54:54               389  hawaiian_m         1   \n",
       "4       247 2015-01-04  20:55:29               568  hawaiian_m         1   \n",
       "\n",
       "  pizza_type_id size  price                name category  \\\n",
       "0      hawaiian    M  13.25  The Hawaiian Pizza  Classic   \n",
       "1      hawaiian    M  13.25  The Hawaiian Pizza  Classic   \n",
       "2      hawaiian    M  13.25  The Hawaiian Pizza  Classic   \n",
       "3      hawaiian    M  13.25  The Hawaiian Pizza  Classic   \n",
       "4      hawaiian    M  13.25  The Hawaiian Pizza  Classic   \n",
       "\n",
       "                                ingredients       day    month  hour  Sales  \n",
       "0  Sliced Ham, Pineapple, Mozzarella Cheese  Thursday  January    11  13.25  \n",
       "1  Sliced Ham, Pineapple, Mozzarella Cheese    Friday  January    12  13.25  \n",
       "2  Sliced Ham, Pineapple, Mozzarella Cheese  Saturday  January    14  13.25  \n",
       "3  Sliced Ham, Pineapple, Mozzarella Cheese  Saturday  January    16  13.25  \n",
       "4  Sliced Ham, Pineapple, Mozzarella Cheese    Sunday  January    20  13.25  "
      ]
     },
     "execution_count": 50,
     "metadata": {},
     "output_type": "execute_result"
    }
   ],
   "source": [
    "pizza_df.head()"
   ]
  },
  {
   "cell_type": "markdown",
   "id": "a3bd2911",
   "metadata": {},
   "source": [
    "# HOW MANY PIZZAS WERE SOLD IN A YEAR"
   ]
  },
  {
   "cell_type": "code",
   "execution_count": 51,
   "id": "0bdca0bf",
   "metadata": {},
   "outputs": [
    {
     "data": {
      "text/plain": [
       "49574"
      ]
     },
     "execution_count": 51,
     "metadata": {},
     "output_type": "execute_result"
    }
   ],
   "source": [
    "pizza_df[\"quantity\"].sum()"
   ]
  },
  {
   "cell_type": "markdown",
   "id": "8fe0fcb5",
   "metadata": {},
   "source": [
    "## Ans: 49574 pieces of pizza were sold in the year 2015 "
   ]
  },
  {
   "cell_type": "markdown",
   "id": "77375704",
   "metadata": {},
   "source": [
    "## HOW MANY DAYS DID THE RESTAURANT OPERATE\n"
   ]
  },
  {
   "cell_type": "code",
   "execution_count": 52,
   "id": "b8df63f4",
   "metadata": {},
   "outputs": [
    {
     "data": {
      "text/plain": [
       "358"
      ]
     },
     "execution_count": 52,
     "metadata": {},
     "output_type": "execute_result"
    }
   ],
   "source": [
    "#First approach\n",
    "pizza_df[~pizza_df.date.duplicated()].count()[1]"
   ]
  },
  {
   "cell_type": "code",
   "execution_count": 53,
   "id": "85433808",
   "metadata": {},
   "outputs": [
    {
     "data": {
      "text/plain": [
       "358"
      ]
     },
     "execution_count": 53,
     "metadata": {},
     "output_type": "execute_result"
    }
   ],
   "source": [
    "#Second approach\n",
    "pizza_df.date.count() - pizza_df.date.duplicated().sum()"
   ]
  },
  {
   "cell_type": "markdown",
   "id": "cc39b831",
   "metadata": {},
   "source": [
    "# Ans: The company operated for 358 working days in the year under review"
   ]
  },
  {
   "cell_type": "markdown",
   "id": "f5648981",
   "metadata": {},
   "source": [
    "# HOW MANY ORDERS WERE PLACED IN THE SAME YEAR"
   ]
  },
  {
   "cell_type": "code",
   "execution_count": 54,
   "id": "1f18c97c",
   "metadata": {},
   "outputs": [
    {
     "data": {
      "text/plain": [
       "21350"
      ]
     },
     "execution_count": 54,
     "metadata": {},
     "output_type": "execute_result"
    }
   ],
   "source": [
    "pizza_df.order_id.count() - pizza_df.order_id.duplicated().sum() "
   ]
  },
  {
   "cell_type": "markdown",
   "id": "27b7b909",
   "metadata": {},
   "source": [
    "## Ans: The company had 21350 orders in the year under review"
   ]
  },
  {
   "cell_type": "code",
   "execution_count": 55,
   "id": "7769cf44",
   "metadata": {},
   "outputs": [
    {
     "data": {
      "text/plain": [
       "21350"
      ]
     },
     "execution_count": 55,
     "metadata": {},
     "output_type": "execute_result"
    }
   ],
   "source": [
    "#Similarly you can drop duplicates and count.\n",
    "pizza_df.order_id.drop_duplicates().count()"
   ]
  },
  {
   "cell_type": "markdown",
   "id": "07bf3a85",
   "metadata": {},
   "source": [
    "# HOW MUCH MONEY WAS MADE\n"
   ]
  },
  {
   "cell_type": "code",
   "execution_count": 56,
   "id": "5c25ab60",
   "metadata": {},
   "outputs": [
    {
     "data": {
      "text/plain": [
       "817860.05"
      ]
     },
     "execution_count": 56,
     "metadata": {},
     "output_type": "execute_result"
    }
   ],
   "source": [
    "pizza_df.Sales.sum()"
   ]
  },
  {
   "cell_type": "markdown",
   "id": "7a74d109",
   "metadata": {},
   "source": [
    "## Ans: GHS. 817860.05 is the amount of money they made in the year under review"
   ]
  },
  {
   "cell_type": "markdown",
   "id": "65c16022",
   "metadata": {},
   "source": [
    "# WHICH AMONGST THE DAYS IS THE BUSIEST"
   ]
  },
  {
   "cell_type": "code",
   "execution_count": 29,
   "id": "5c2b2b72",
   "metadata": {},
   "outputs": [
    {
     "data": {
      "text/plain": [
       "day\n",
       "Friday       8242\n",
       "Monday       6485\n",
       "Saturday     7493\n",
       "Sunday       6035\n",
       "Thursday     7478\n",
       "Tuesday      6895\n",
       "Wednesday    6946\n",
       "Name: quantity, dtype: int64"
      ]
     },
     "execution_count": 29,
     "metadata": {},
     "output_type": "execute_result"
    }
   ],
   "source": [
    "#Using the groupby clause to sort the datasets in the dataframe according to days.\n",
    "pizza_df.groupby(\"day\")[\"quantity\"].sum()"
   ]
  },
  {
   "cell_type": "code",
   "execution_count": 64,
   "id": "da61219d",
   "metadata": {},
   "outputs": [],
   "source": [
    "#Syntax for inserting a dataframe inorder to make the presentation more presentable\n",
    "day_df = pd.DataFrame(pizza_df.groupby(\"day\")[\"quantity\"].sum().sort_values(ascending=False)).reset_index()\n",
    "\n",
    "day_df[\"qty_pct\"] = round(day_df[\"quantity\"]/day_df[\"quantity\"].sum()*100,2)"
   ]
  },
  {
   "cell_type": "code",
   "execution_count": 66,
   "id": "cad644bd",
   "metadata": {},
   "outputs": [
    {
     "data": {
      "text/html": [
       "<div>\n",
       "<style scoped>\n",
       "    .dataframe tbody tr th:only-of-type {\n",
       "        vertical-align: middle;\n",
       "    }\n",
       "\n",
       "    .dataframe tbody tr th {\n",
       "        vertical-align: top;\n",
       "    }\n",
       "\n",
       "    .dataframe thead th {\n",
       "        text-align: right;\n",
       "    }\n",
       "</style>\n",
       "<table border=\"1\" class=\"dataframe\">\n",
       "  <thead>\n",
       "    <tr style=\"text-align: right;\">\n",
       "      <th></th>\n",
       "      <th>day</th>\n",
       "      <th>quantity</th>\n",
       "      <th>qty_pct</th>\n",
       "    </tr>\n",
       "  </thead>\n",
       "  <tbody>\n",
       "    <tr>\n",
       "      <th>0</th>\n",
       "      <td>Friday</td>\n",
       "      <td>8242</td>\n",
       "      <td>16.63</td>\n",
       "    </tr>\n",
       "    <tr>\n",
       "      <th>1</th>\n",
       "      <td>Saturday</td>\n",
       "      <td>7493</td>\n",
       "      <td>15.11</td>\n",
       "    </tr>\n",
       "    <tr>\n",
       "      <th>2</th>\n",
       "      <td>Thursday</td>\n",
       "      <td>7478</td>\n",
       "      <td>15.08</td>\n",
       "    </tr>\n",
       "    <tr>\n",
       "      <th>3</th>\n",
       "      <td>Wednesday</td>\n",
       "      <td>6946</td>\n",
       "      <td>14.01</td>\n",
       "    </tr>\n",
       "    <tr>\n",
       "      <th>4</th>\n",
       "      <td>Tuesday</td>\n",
       "      <td>6895</td>\n",
       "      <td>13.91</td>\n",
       "    </tr>\n",
       "    <tr>\n",
       "      <th>5</th>\n",
       "      <td>Monday</td>\n",
       "      <td>6485</td>\n",
       "      <td>13.08</td>\n",
       "    </tr>\n",
       "    <tr>\n",
       "      <th>6</th>\n",
       "      <td>Sunday</td>\n",
       "      <td>6035</td>\n",
       "      <td>12.17</td>\n",
       "    </tr>\n",
       "  </tbody>\n",
       "</table>\n",
       "</div>"
      ],
      "text/plain": [
       "         day  quantity  qty_pct\n",
       "0     Friday      8242    16.63\n",
       "1   Saturday      7493    15.11\n",
       "2   Thursday      7478    15.08\n",
       "3  Wednesday      6946    14.01\n",
       "4    Tuesday      6895    13.91\n",
       "5     Monday      6485    13.08\n",
       "6     Sunday      6035    12.17"
      ]
     },
     "execution_count": 66,
     "metadata": {},
     "output_type": "execute_result"
    }
   ],
   "source": [
    "day_df"
   ]
  },
  {
   "cell_type": "code",
   "execution_count": null,
   "id": "1a38de61",
   "metadata": {},
   "outputs": [],
   "source": []
  },
  {
   "cell_type": "code",
   "execution_count": null,
   "id": "dc30d91f",
   "metadata": {},
   "outputs": [],
   "source": []
  },
  {
   "cell_type": "code",
   "execution_count": 82,
   "id": "323af306",
   "metadata": {},
   "outputs": [
    {
     "data": {
      "text/plain": [
       "Text(0.5, 1.0, 'DESCENDING ORDER OF BUSIEST DAY')"
      ]
     },
     "execution_count": 82,
     "metadata": {},
     "output_type": "execute_result"
    },
    {
     "data": {
      "image/png": "[encoded data removed]",
      "text/plain": [
       "<Figure size 1500x700 with 1 Axes>"
      ]
     },
     "metadata": {},
     "output_type": "display_data"
    }
   ],
   "source": [
    "plt.figure(figsize=(15,7))\n",
    "sns.barplot(data=day_df,x=\"day\",y=\"quantity\", palette=\"Blues\")\n",
    "plt.xlabel(\"DAYS\",fontsize=18)\n",
    "plt.ylabel(\"QUANTITIES\",fontsize=18)\n",
    "plt.title(\"DESCENDING ORDER OF BUSIEST DAY\",fontsize=18)"
   ]
  },
  {
   "cell_type": "code",
   "execution_count": null,
   "id": "3203dc45",
   "metadata": {},
   "outputs": [],
   "source": []
  }
 ],
 "metadata": {
  "kernelspec": {
   "display_name": "Python 3 (ipykernel)",
   "language": "python",
   "name": "python3"
  },
  "language_info": {
   "codemirror_mode": {
    "name": "ipython",
    "version": 3
   },
   "file_extension": ".py",
   "mimetype": "text/x-python",
   "name": "python",
   "nbconvert_exporter": "python",
   "pygments_lexer": "ipython3",
   "version": "3.11.5"
  }
 },
 "nbformat": 4,
 "nbformat_minor": 5
}
